{
 "cells": [
  {
   "cell_type": "code",
   "execution_count": 12,
   "metadata": {},
   "outputs": [],
   "source": [
    "import pandas as pd\n",
    "import numpy as np # módulo para manipulação de vetores e matrizes\n",
    "import matplotlib.pyplot as plt\n",
    "#!pip install tensorflow \n",
    "import tensorflow as tf \n",
    "from sklearn.model_selection import train_test_split\n",
    "from tensorflow.keras.preprocessing.text import Tokenizer\n",
    "from sklearn.metrics import accuracy_score, confusion_matrix, precision_score, recall_score\n",
    "import seaborn as sns\n",
    "from sklearn.metrics import confusion_matrix\n",
    "import pandas.util.testing as tm\n",
    "import re\n",
    "import unittest\n",
    "from selenium import webdriver\n",
    "from selenium.webdriver.common.keys import Keys\n",
    "import time\n",
    "from tensorflow import keras\n",
    "import string\n",
    "import nltk\n",
    "#nltk.download_shell() baixat stopwords\n",
    "from sklearn.ensemble import RandomForestClassifier\n",
    "from nltk.corpus import stopwords\n",
    "from sklearn.feature_extraction.text import CountVectorizer\n",
    "from sklearn.feature_extraction.text import TfidfTransformer\n",
    "from sklearn.pipeline import Pipeline\n",
    "from sklearn.metrics import classification_report\n",
    "import pickle\n",
    "import demoji\n",
    "from wordcloud import WordCloud, STOPWORDS, ImageColorGenerator\n",
    "import json\n",
    "import io"
   ]
  },
  {
   "cell_type": "code",
   "execution_count": 13,
   "metadata": {},
   "outputs": [],
   "source": [
    "def FormatosNoData (dados_saude2):\n",
    "    todos_formatos =[]\n",
    "    for i in range(dados_saude2.shape[0]):\n",
    "        todos_formatos.append(dados_saude2.Formato[i])\n",
    "    todos_formatos = set(todos_formatos)\n",
    "    print(todos_formatos)\n",
    "    "
   ]
  },
  {
   "cell_type": "code",
   "execution_count": 14,
   "metadata": {},
   "outputs": [],
   "source": [
    "def LinksDasNoticias(a):\n",
    "    \n",
    "    links =[]\n",
    "    for i in a.index:\n",
    "        l = a.Link[i] \n",
    "        l= l.rstrip('/')\n",
    "        links.append(l)\n",
    "    #for i in range(len(links)):\n",
    "        #print(i,links[i])\n",
    "    return links\n",
    "    "
   ]
  },
  {
   "cell_type": "code",
   "execution_count": 15,
   "metadata": {},
   "outputs": [],
   "source": [
    "#normalizando as frases\n",
    "def normalize(data):\n",
    "    normalized = []\n",
    "    for i in data.Frase:\n",
    "        i = i.lower()\n",
    "        normalized.append(i)\n",
    "    return normalized"
   ]
  },
  {
   "cell_type": "code",
   "execution_count": 16,
   "metadata": {},
   "outputs": [],
   "source": [
    "#normalizando as frases\n",
    "def normalizeTweet(data):\n",
    "    normalized = []\n",
    "    for i in data.tweet:\n",
    "        e = demoji.findall_list(i ,True )\n",
    "        if e:\n",
    "            a = demoji.replace_with_desc(i)\n",
    "            i = re.sub(e[0], ' ',a)\n",
    "        i = re.sub(\"\\n\", ' ',i)\n",
    "        i = re.sub(\"'\", ' ',i)\n",
    "        i = i.replace(\"'\",\"\")\n",
    "        #i = re.sub('...', '',i)\n",
    "        i = re.sub(\"-\", '',i)\n",
    "        i = i.lower()\n",
    "        normalized.append(i)\n",
    "    return normalized"
   ]
  },
  {
   "cell_type": "code",
   "execution_count": 17,
   "metadata": {},
   "outputs": [],
   "source": [
    "noticias= pd.read_csv('Banco_completo_utf8.csv',sep=';',header=0,encoding='utf-8')\n",
    "noticias_sem_tweets= pd.read_csv('Banco_completo_sem_tweets_utf8.csv',sep=';',header=0,encoding='utf-8')"
   ]
  },
  {
   "cell_type": "code",
   "execution_count": 18,
   "metadata": {},
   "outputs": [
    {
     "data": {
      "text/html": [
       "<div>\n",
       "<style scoped>\n",
       "    .dataframe tbody tr th:only-of-type {\n",
       "        vertical-align: middle;\n",
       "    }\n",
       "\n",
       "    .dataframe tbody tr th {\n",
       "        vertical-align: top;\n",
       "    }\n",
       "\n",
       "    .dataframe thead th {\n",
       "        text-align: right;\n",
       "    }\n",
       "</style>\n",
       "<table border=\"1\" class=\"dataframe\">\n",
       "  <thead>\n",
       "    <tr style=\"text-align: right;\">\n",
       "      <th></th>\n",
       "      <th>label</th>\n",
       "      <th>preprocessed_news</th>\n",
       "    </tr>\n",
       "  </thead>\n",
       "  <tbody>\n",
       "    <tr>\n",
       "      <th>0</th>\n",
       "      <td>0</td>\n",
       "      <td>katia abreu diz vai colocar expulsao moldura n...</td>\n",
       "    </tr>\n",
       "    <tr>\n",
       "      <th>1</th>\n",
       "      <td>0</td>\n",
       "      <td>ray peita bolsonaro conservador fake entrevist...</td>\n",
       "    </tr>\n",
       "    <tr>\n",
       "      <th>2</th>\n",
       "      <td>0</td>\n",
       "      <td>reinaldo azevedo desmascarado policia federal ...</td>\n",
       "    </tr>\n",
       "    <tr>\n",
       "      <th>3</th>\n",
       "      <td>0</td>\n",
       "      <td>relatorio assustador bndes mostra dinheiro pub...</td>\n",
       "    </tr>\n",
       "    <tr>\n",
       "      <th>4</th>\n",
       "      <td>0</td>\n",
       "      <td>radialista americano fala sobre pt vendem ilus...</td>\n",
       "    </tr>\n",
       "  </tbody>\n",
       "</table>\n",
       "</div>"
      ],
      "text/plain": [
       "   label                                  preprocessed_news\n",
       "0      0  katia abreu diz vai colocar expulsao moldura n...\n",
       "1      0  ray peita bolsonaro conservador fake entrevist...\n",
       "2      0  reinaldo azevedo desmascarado policia federal ...\n",
       "3      0  relatorio assustador bndes mostra dinheiro pub...\n",
       "4      0  radialista americano fala sobre pt vendem ilus..."
      ]
     },
     "execution_count": 18,
     "metadata": {},
     "output_type": "execute_result"
    }
   ],
   "source": [
    "noticias.head(5)"
   ]
  },
  {
   "cell_type": "code",
   "execution_count": 19,
   "metadata": {},
   "outputs": [
    {
     "name": "stderr",
     "output_type": "stream",
     "text": [
      "C:\\Users\\GuilhermeCorrea\\AppData\\Local\\Continuum\\anaconda3\\lib\\site-packages\\ipykernel_launcher.py:5: SettingWithCopyWarning: \n",
      "A value is trying to be set on a copy of a slice from a DataFrame\n",
      "\n",
      "See the caveats in the documentation: https://pandas.pydata.org/pandas-docs/stable/user_guide/indexing.html#returning-a-view-versus-a-copy\n",
      "  \"\"\"\n"
     ]
    }
   ],
   "source": [
    "#identificando linhas com menos de 2000 palavras\n",
    "index_texto_incompletos = []\n",
    "for i in noticias.index:\n",
    "    if len(noticias.loc[i].preprocessed_news.split())>=2000:\n",
    "        noticias.preprocessed_news[i]= noticias.preprocessed_news[i][:2000] \n"
   ]
  },
  {
   "cell_type": "code",
   "execution_count": 20,
   "metadata": {},
   "outputs": [],
   "source": [
    "texto = noticias['preprocessed_news']\n",
    "classificacao = noticias['label']\n",
    "\n",
    "X_train, X_test, y_train, y_test = train_test_split(texto, classificacao, test_size=0.30, random_state=18)"
   ]
  },
  {
   "cell_type": "code",
   "execution_count": 21,
   "metadata": {},
   "outputs": [],
   "source": [
    "#processo de dividir uma string em uma lista de tokens\n",
    "max_vocab = 10000\n",
    "tokenizer = Tokenizer(num_words=max_vocab)\n",
    "#atualiza o vocabulário interno com base em uma lista de textos.\n",
    "#Este método cria o índice de vocabulário com base na frequência das palavras\n",
    "tokenizer.fit_on_texts(X_train)\n",
    "\n",
    "tokenizer_json = tokenizer.to_json()\n",
    "with io.open('tokenizer.json', 'w', encoding='utf-8') as f:\n",
    "    f.write(json.dumps(tokenizer_json, ensure_ascii=False))\n",
    "\n",
    "#Converta texto em vetores, nosso classificador usa apenas dados numéricos.\n",
    "X_train = tokenizer.texts_to_sequences(X_train)\n",
    "X_test = tokenizer.texts_to_sequences(X_test)\n",
    "\n",
    "#Escolho o tamanho do vetor que a minha frase vai ocupar (256 ?)\n",
    "X_train = tf.keras.preprocessing.sequence.pad_sequences(X_train, padding='post', maxlen=256)\n",
    "X_test = tf.keras.preprocessing.sequence.pad_sequences(X_test, padding='post', maxlen=256)\n"
   ]
  },
  {
   "cell_type": "code",
   "execution_count": 22,
   "metadata": {},
   "outputs": [
    {
     "name": "stdout",
     "output_type": "stream",
     "text": [
      "Model: \"sequential\"\n",
      "_________________________________________________________________\n",
      "Layer (type)                 Output Shape              Param #   \n",
      "=================================================================\n",
      "embedding (Embedding)        (None, None, 32)          320000    \n",
      "_________________________________________________________________\n",
      "bidirectional (Bidirectional (None, None, 128)         49664     \n",
      "_________________________________________________________________\n",
      "bidirectional_1 (Bidirection (None, 32)                18560     \n",
      "_________________________________________________________________\n",
      "dense (Dense)                (None, 64)                2112      \n",
      "_________________________________________________________________\n",
      "dropout (Dropout)            (None, 64)                0         \n",
      "_________________________________________________________________\n",
      "dense_1 (Dense)              (None, 1)                 65        \n",
      "=================================================================\n",
      "Total params: 390,401\n",
      "Trainable params: 390,401\n",
      "Non-trainable params: 0\n",
      "_________________________________________________________________\n"
     ]
    }
   ],
   "source": [
    "model = tf.keras.Sequential([\n",
    "    tf.keras.layers.Embedding(max_vocab, 32),# Essa camada pega o vocabulário em inteiros e olha o vetor embedding em cada palavra-index. Esses vetores são aprendidos pelo modelo, ao longo do treinamento. Os vetores adicionam a dimensão ao array de saída. As dimensões resultantes são: (batch, sequence, embedding)\n",
    "    tf.keras.layers.Bidirectional(tf.keras.layers.LSTM(64,  return_sequences=True)),\n",
    "    tf.keras.layers.Bidirectional(tf.keras.layers.LSTM(16)),\n",
    "    tf.keras.layers.Dense(64, activation='relu'),#Esse vetor de saída com tamanho fixo passa por uma camada fully-connected (Dense) layer com 64 hidden units.\n",
    "    tf.keras.layers.Dropout(0.5),\n",
    "    tf.keras.layers.Dense(1)#A última camada é uma densely connected com um único nó de saída. Usando uma função de ativação sigmoid, esse valor é um float que varia entre 0 e 1, representando a probabilidade, ou nível de confiança.\n",
    "])\n",
    "\n",
    "model.summary()"
   ]
  },
  {
   "cell_type": "code",
   "execution_count": 23,
   "metadata": {},
   "outputs": [
    {
     "name": "stdout",
     "output_type": "stream",
     "text": [
      "Epoch 1/15\n",
      "172/172 [==============================] - 131s 762ms/step - loss: 0.6078 - accuracy: 0.5747 - val_loss: 0.4639 - val_accuracy: 0.7972\n",
      "Epoch 2/15\n",
      "172/172 [==============================] - 141s 818ms/step - loss: 0.4205 - accuracy: 0.7904 - val_loss: 0.3475 - val_accuracy: 0.7972\n",
      "Epoch 3/15\n",
      "172/172 [==============================] - 137s 794ms/step - loss: 0.3269 - accuracy: 0.8100 - val_loss: 0.2898 - val_accuracy: 0.7955\n",
      "Epoch 4/15\n",
      "172/172 [==============================] - 137s 796ms/step - loss: 0.2873 - accuracy: 0.8588 - val_loss: 0.2660 - val_accuracy: 0.9178\n",
      "Epoch 5/15\n",
      "172/172 [==============================] - 149s 867ms/step - loss: 0.2633 - accuracy: 0.8913 - val_loss: 0.2646 - val_accuracy: 0.9126\n",
      "Epoch 6/15\n",
      "172/172 [==============================] - 127s 737ms/step - loss: 0.2442 - accuracy: 0.9105 - val_loss: 0.2558 - val_accuracy: 0.9161\n",
      "Epoch 7/15\n",
      "172/172 [==============================] - 93s 542ms/step - loss: 0.2361 - accuracy: 0.9148 - val_loss: 0.2580 - val_accuracy: 0.9108\n",
      "Epoch 8/15\n",
      "172/172 [==============================] - 88s 511ms/step - loss: 0.2142 - accuracy: 0.9218 - val_loss: 0.2638 - val_accuracy: 0.9073\n"
     ]
    }
   ],
   "source": [
    "#Vamos usar a parada antecipada, que para quando a perda de validação não melhora mais.\n",
    "parada_antecipada = tf.keras.callbacks.EarlyStopping(monitor='val_loss', patience=2, restore_best_weights=True)\n",
    "#Calcula a perda de entropia cruzada entre rótulos verdadeiros e rótulos previstos.\n",
    "model.compile(loss=tf.keras.losses.BinaryCrossentropy(from_logits=True),#classificação binário e o modelo tem como saída uma probabilidade \n",
    "              optimizer=tf.keras.optimizers.Adam(1e-4),\n",
    "              metrics=['accuracy'])\n",
    "\n",
    "#Conjunto de dados limitado e para otimizar o aprendizado e o gráfico estamos usando o Gradient Descent \n",
    "#que é um processo iterativo. Portanto, atualizar os pesos com uma única passagem ou uma época não é suficiente.\n",
    "history = model.fit(X_train, y_train, epochs=15,validation_split=0.1, batch_size=30, shuffle=True, callbacks=[parada_antecipada])"
   ]
  },
  {
   "cell_type": "code",
   "execution_count": 24,
   "metadata": {},
   "outputs": [
    {
     "name": "stdout",
     "output_type": "stream",
     "text": [
      "77/77 [==============================] - 9s 118ms/step - loss: 0.2177 - accuracy: 0.9232\n"
     ]
    },
    {
     "data": {
      "text/plain": [
       "[0.21772393584251404, 0.9232339859008789]"
      ]
     },
     "execution_count": 24,
     "metadata": {},
     "output_type": "execute_result"
    }
   ],
   "source": [
    "model.evaluate(X_test, y_test)"
   ]
  },
  {
   "cell_type": "code",
   "execution_count": 25,
   "metadata": {},
   "outputs": [],
   "source": [
    "pred = model.predict(X_test)\n",
    "\n",
    "binary_predictions = []\n",
    "\n",
    "for i in pred:\n",
    "    if i >= 0.5:\n",
    "        binary_predictions.append(1)\n",
    "    else:\n",
    "        binary_predictions.append(0) "
   ]
  },
  {
   "cell_type": "code",
   "execution_count": 26,
   "metadata": {},
   "outputs": [
    {
     "name": "stdout",
     "output_type": "stream",
     "text": [
      "Accuracy on testing set: 0.9232339730502246\n",
      "Precision on testing set: 0.9290724863600935\n",
      "Recall on testing set: 0.9247478665632273\n"
     ]
    }
   ],
   "source": [
    "print('Accuracy on testing set:', accuracy_score(binary_predictions, y_test))\n",
    "print('Precision on testing set:', precision_score(binary_predictions, y_test))\n",
    "print('Recall on testing set:', recall_score(binary_predictions, y_test))"
   ]
  },
  {
   "cell_type": "code",
   "execution_count": 27,
   "metadata": {},
   "outputs": [
    {
     "data": {
      "text/plain": [
       "(2.0, 0.0)"
      ]
     },
     "execution_count": 27,
     "metadata": {},
     "output_type": "execute_result"
    },
    {
     "data": {
      "image/png": "[encoded data removed]",
      "text/plain": [
       "<Figure size 576x576 with 2 Axes>"
      ]
     },
     "metadata": {
      "needs_background": "light"
     },
     "output_type": "display_data"
    }
   ],
   "source": [
    "matrix = confusion_matrix(binary_predictions, y_test)\n",
    "plt.figure(figsize=(8, 8))\n",
    "ax= plt.subplot()\n",
    "sns.heatmap(matrix, annot=True, ax = ax)\n",
    "\n",
    "# labels, title and ticks\n",
    "ax.set_xlabel('Previsão', size=15)\n",
    "ax.set_ylabel('True label', size=15)\n",
    "ax.set_title('Matriz Confusão', size=20) \n",
    "ax.xaxis.set_ticklabels([0,1], size=15)\n",
    "ax.yaxis.set_ticklabels([0,1], size=15)\n",
    "bottom, top = ax.get_ylim()\n",
    "ax.set_ylim(bottom + 0.5, top - 0.5)\n"
   ]
  },
  {
   "cell_type": "code",
   "execution_count": 29,
   "metadata": {},
   "outputs": [
    {
     "data": {
      "text/plain": [
       "[1]"
      ]
     },
     "execution_count": 29,
     "metadata": {},
     "output_type": "execute_result"
    }
   ],
   "source": [
    "a = \"A utilização da máscara, feita de material adequado e cobrindo nariz e boca, é recomendada pela Organização Mundial de Saúde e pelo Ministério da Saúde como forma eficaz de se reduzir a transmissão do Sars-CoV-2. Médicos entrevistados pela CBN reiteram a orientação quanto ao uso do item de proteção.Além disso, a utilização passou a ser obrigatória em julho, por lei federal, em espaços públicos, como ruas e praças, nos transportes e em locais privados com acesso público, como no caso do comércio. A medida vale enquanto durar a pandemia do coronavírus no país.No vídeo viral, o homem afirma: “O uso de máscara é altamente controverso. Pode fazer sentido se você estiver doente. Mas pessoas saudáveis usarem máscara em ambientes abertos é um absurdo. O uso da máscara continuamente causa diversos problemas: baixa oxigenação\"\n",
    "a = np.array([a])\n",
    "a = tokenizer.texts_to_sequences(a)\n",
    "a = tf.keras.preprocessing.sequence.pad_sequences(a, padding='post', maxlen=80)\n",
    "pred = model.predict(a)\n",
    "binary_predictions = []\n",
    "\n",
    "for i in pred:\n",
    "    if i >= 0.5:\n",
    "        binary_predictions.append(1) #true\n",
    "    else:\n",
    "        binary_predictions.append(0) \n",
    "binary_predictions"
   ]
  },
  {
   "cell_type": "code",
   "execution_count": null,
   "metadata": {},
   "outputs": [],
   "source": []
  }
 ],
 "metadata": {
  "kernelspec": {
   "display_name": "Python 3",
   "language": "python",
   "name": "python3"
  },
  "language_info": {
   "codemirror_mode": {
    "name": "ipython",
    "version": 3
   },
   "file_extension": ".py",
   "mimetype": "text/x-python",
   "name": "python",
   "nbconvert_exporter": "python",
   "pygments_lexer": "ipython3",
   "version": "3.7.4"
  }
 },
 "nbformat": 4,
 "nbformat_minor": 2
}
